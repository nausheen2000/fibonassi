{
 "cells": [
  {
   "cell_type": "code",
   "execution_count": 5,
   "metadata": {},
   "outputs": [
    {
     "name": "stdout",
     "output_type": "stream",
     "text": [
      "how many terms? 10\n",
      "fibonacci sequence:\n",
      "0\n",
      "1\n",
      "1\n",
      "2\n",
      "3\n",
      "5\n",
      "8\n",
      "13\n",
      "21\n",
      "34\n"
     ]
    }
   ],
   "source": [
    "terms=int(input(\"how many terms? \"))\n",
    "a=0\n",
    "b=1\n",
    "count=0\n",
    "\n",
    "if terms<=0:\n",
    "    print(\"please enter a positive integer\")\n",
    "elif terms==1:\n",
    "    print(\"fibonacci terms upto\",terms,\":\")\n",
    "    print(a)\n",
    "else:\n",
    "    print(\"fibonacci sequence:\")\n",
    "    while count<terms:\n",
    "        print(a)\n",
    "        c=a+b\n",
    "        \n",
    "        a=b\n",
    "        b=c\n",
    "        count+=1"
   ]
  },
  {
   "cell_type": "code",
   "execution_count": null,
   "metadata": {},
   "outputs": [],
   "source": []
  }
 ],
 "metadata": {
  "kernelspec": {
   "display_name": "Python 3",
   "language": "python",
   "name": "python3"
  },
  "language_info": {
   "codemirror_mode": {
    "name": "ipython",
    "version": 3
   },
   "file_extension": ".py",
   "mimetype": "text/x-python",
   "name": "python",
   "nbconvert_exporter": "python",
   "pygments_lexer": "ipython3",
   "version": "3.8.3"
  }
 },
 "nbformat": 4,
 "nbformat_minor": 4
}
